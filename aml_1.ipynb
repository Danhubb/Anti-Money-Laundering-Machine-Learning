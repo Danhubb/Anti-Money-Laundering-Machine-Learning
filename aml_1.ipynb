{
 "cells": [
  {
   "cell_type": "markdown",
   "id": "59678921-5220-46af-a9fb-f830761bbcbc",
   "metadata": {},
   "source": [
    "# Import libs"
   ]
  },
  {
   "cell_type": "code",
   "execution_count": 2,
   "id": "4a5d435f-bfbf-4df2-bf62-7a2aa710fa2d",
   "metadata": {},
   "outputs": [],
   "source": [
    "import pandas as pd\n",
    "import numpy as np\n",
    "from sklearn.preprocessing import OneHotEncoder\n",
    "from sklearn.model_selection import train_test_split\n",
    "from sklearn.metrics import classification_report, accuracy_score\n",
    "from sklearn.ensemble import RandomForestClassifier\n",
    "from sklearn.linear_model import LogisticRegression\n",
    "from sklearn.tree import DecisionTreeClassifier\n",
    "from sklearn.svm import SVC\n",
    "from xgboost import XGBClassifier\n",
    "from sklearn.neighbors import KNeighborsClassifier\n",
    "from sklearn.naive_bayes import GaussianNB\n",
    "from lightgbm import LGBMClassifier\n",
    "from catboost import CatBoostClassifier\n",
    "from sklearn.pipeline import Pipeline\n",
    "from sklearn.compose import ColumnTransformer\n",
    "from imblearn.over_sampling import SMOTE\n",
    "from imblearn.pipeline import Pipeline as imblearn_Pipeline\n",
    "import joblib\n",
    "import warnings\n",
    "warnings.filterwarnings('ignore')"
   ]
  },
  {
   "cell_type": "markdown",
   "id": "659504d6-8ded-4450-a9ff-d7e6307c47d5",
   "metadata": {},
   "source": [
    "# Load Data"
   ]
  },
  {
   "cell_type": "code",
   "execution_count": 3,
   "id": "73c5a596-5929-493f-bf1c-ddd4ac34217e",
   "metadata": {},
   "outputs": [],
   "source": [
    "transactions = pd.read_csv('transactions.csv')\n",
    "alerts = pd.read_csv('alerts.csv')\n",
    "accounts = pd.read_csv('accounts.csv')"
   ]
  },
  {
   "cell_type": "markdown",
   "id": "3d71904d-17b8-4e2e-a313-c516b3dd48ae",
   "metadata": {},
   "source": [
    "# Data analysis"
   ]
  },
  {
   "cell_type": "code",
   "execution_count": 3,
   "id": "ea3a4e28-c06e-4785-aada-e850ca8b2d2d",
   "metadata": {},
   "outputs": [
    {
     "name": "stdout",
     "output_type": "stream",
     "text": [
      "   TX_ID  SENDER_ACCOUNT_ID  RECEIVER_ACCOUNT_ID   TX_TYPE  TX_AMOUNT  \\\n",
      "0      1               6456                 9069  TRANSFER     465.05   \n",
      "1      2               7516                 9543  TRANSFER     564.64   \n",
      "2      3               2445                 9356  TRANSFER     598.94   \n",
      "3      4               2576                 4617  TRANSFER     466.07   \n",
      "4      5               3524                 1773  TRANSFER     405.63   \n",
      "\n",
      "   TIMESTAMP  IS_FRAUD  ALERT_ID  \n",
      "0          0     False        -1  \n",
      "1          0     False        -1  \n",
      "2          0     False        -1  \n",
      "3          0     False        -1  \n",
      "4          0     False        -1  \n",
      "   ALERT_ID ALERT_TYPE  IS_FRAUD  TX_ID  SENDER_ACCOUNT_ID  \\\n",
      "0       193     fan_in      True     82               6976   \n",
      "1       377      cycle      True    949               5776   \n",
      "2       189     fan_in      True   6280               9999   \n",
      "3       377      cycle      True   7999               1089   \n",
      "4       130     fan_in      True  12975               7025   \n",
      "\n",
      "   RECEIVER_ACCOUNT_ID   TX_TYPE  TX_AMOUNT  TIMESTAMP  \n",
      "0                 9739  TRANSFER       4.85          0  \n",
      "1                 2570  TRANSFER      10.27          0  \n",
      "2                 9530  TRANSFER       2.74          1  \n",
      "3                 7352  TRANSFER      10.27          1  \n",
      "4                 9708  TRANSFER       3.53          2  \n",
      "   ACCOUNT_ID CUSTOMER_ID  INIT_BALANCE COUNTRY ACCOUNT_TYPE  IS_FRAUD  \\\n",
      "0           0         C_0        184.44      US            I     False   \n",
      "1           1         C_1        175.80      US            I     False   \n",
      "2           2         C_2        142.06      US            I     False   \n",
      "3           3         C_3        125.89      US            I     False   \n",
      "4           4         C_4        151.13      US            I     False   \n",
      "\n",
      "   TX_BEHAVIOR_ID  \n",
      "0               1  \n",
      "1               1  \n",
      "2               1  \n",
      "3               1  \n",
      "4               1  \n",
      "<class 'pandas.core.frame.DataFrame'>\n",
      "RangeIndex: 1323234 entries, 0 to 1323233\n",
      "Data columns (total 8 columns):\n",
      " #   Column               Non-Null Count    Dtype  \n",
      "---  ------               --------------    -----  \n",
      " 0   TX_ID                1323234 non-null  int64  \n",
      " 1   SENDER_ACCOUNT_ID    1323234 non-null  int64  \n",
      " 2   RECEIVER_ACCOUNT_ID  1323234 non-null  int64  \n",
      " 3   TX_TYPE              1323234 non-null  object \n",
      " 4   TX_AMOUNT            1323234 non-null  float64\n",
      " 5   TIMESTAMP            1323234 non-null  int64  \n",
      " 6   IS_FRAUD             1323234 non-null  bool   \n",
      " 7   ALERT_ID             1323234 non-null  int64  \n",
      "dtypes: bool(1), float64(1), int64(5), object(1)\n",
      "memory usage: 71.9+ MB\n",
      "None\n",
      "<class 'pandas.core.frame.DataFrame'>\n",
      "RangeIndex: 10000 entries, 0 to 9999\n",
      "Data columns (total 7 columns):\n",
      " #   Column          Non-Null Count  Dtype  \n",
      "---  ------          --------------  -----  \n",
      " 0   ACCOUNT_ID      10000 non-null  int64  \n",
      " 1   CUSTOMER_ID     10000 non-null  object \n",
      " 2   INIT_BALANCE    10000 non-null  float64\n",
      " 3   COUNTRY         10000 non-null  object \n",
      " 4   ACCOUNT_TYPE    10000 non-null  object \n",
      " 5   IS_FRAUD        10000 non-null  bool   \n",
      " 6   TX_BEHAVIOR_ID  10000 non-null  int64  \n",
      "dtypes: bool(1), float64(1), int64(2), object(3)\n",
      "memory usage: 478.6+ KB\n",
      "None\n",
      "<class 'pandas.core.frame.DataFrame'>\n",
      "RangeIndex: 1719 entries, 0 to 1718\n",
      "Data columns (total 9 columns):\n",
      " #   Column               Non-Null Count  Dtype  \n",
      "---  ------               --------------  -----  \n",
      " 0   ALERT_ID             1719 non-null   int64  \n",
      " 1   ALERT_TYPE           1719 non-null   object \n",
      " 2   IS_FRAUD             1719 non-null   bool   \n",
      " 3   TX_ID                1719 non-null   int64  \n",
      " 4   SENDER_ACCOUNT_ID    1719 non-null   int64  \n",
      " 5   RECEIVER_ACCOUNT_ID  1719 non-null   int64  \n",
      " 6   TX_TYPE              1719 non-null   object \n",
      " 7   TX_AMOUNT            1719 non-null   float64\n",
      " 8   TIMESTAMP            1719 non-null   int64  \n",
      "dtypes: bool(1), float64(1), int64(5), object(2)\n",
      "memory usage: 109.2+ KB\n",
      "None\n",
      "TX_ID                  0\n",
      "SENDER_ACCOUNT_ID      0\n",
      "RECEIVER_ACCOUNT_ID    0\n",
      "TX_TYPE                0\n",
      "TX_AMOUNT              0\n",
      "TIMESTAMP              0\n",
      "IS_FRAUD               0\n",
      "ALERT_ID               0\n",
      "dtype: int64\n"
     ]
    }
   ],
   "source": [
    "print(transactions.head())\n",
    "print(alerts.head())\n",
    "print(accounts.head())\n",
    "print(transactions.info())\n",
    "print(accounts.info())\n",
    "print(alerts.info())\n",
    "print(transactions.isnull().sum())"
   ]
  },
  {
   "cell_type": "code",
   "execution_count": 4,
   "id": "88972904-c635-4287-8682-70c084a66eaf",
   "metadata": {},
   "outputs": [],
   "source": [
    "def min_merge(transactions, accounts):\n",
    "    accounts_min = accounts[['ACCOUNT_ID', 'COUNTRY', 'ACCOUNT_TYPE']]\n",
    "    sender = accounts_min.add_prefix('SENDER_')\n",
    "    receiver = accounts_min.add_prefix('RECEIVER_')\n",
    "    merged = transactions.merge(sender, on='SENDER_ACCOUNT_ID', how='left')\n",
    "    merged = merged.merge(receiver, on='RECEIVER_ACCOUNT_ID', how='left')\n",
    "    keep_cols = ['TX_AMOUNT', 'TIMESTAMP', 'SENDER_COUNTRY', 'RECEIVER_COUNTRY', 'SENDER_ACCOUNT_TYPE', 'RECEIVER_ACCOUNT_TYPE', 'IS_FRAUD']\n",
    "    return merged[keep_cols]"
   ]
  },
  {
   "cell_type": "code",
   "execution_count": 5,
   "id": "3dc99f1b-623f-4ea2-90bc-d1ab2c5a703b",
   "metadata": {},
   "outputs": [
    {
     "name": "stdout",
     "output_type": "stream",
     "text": [
      "IS_FRAUD\n",
      "False    0.998701\n",
      "True     0.001299\n",
      "Name: proportion, dtype: float64\n"
     ]
    }
   ],
   "source": [
    "df = min_merge(transactions, accounts)\n",
    "print(df['IS_FRAUD'].value_counts(normalize=True))"
   ]
  },
  {
   "cell_type": "markdown",
   "id": "b853a5f2-5328-4c27-a4d1-81e46a40a08e",
   "metadata": {},
   "source": [
    "# Feature Engineering"
   ]
  },
  {
   "cell_type": "code",
   "execution_count": 6,
   "id": "262108c0-484b-4878-9636-7a43abfa11b0",
   "metadata": {},
   "outputs": [],
   "source": [
    "amount_bins = [0, 100, 500, 1000, 5000, np.inf]\n",
    "amount_labels = ['0-100', '100-500', '500-1000', '1000-5000', '5000+']\n",
    "df['HOUR'] = pd.to_datetime(df['TIMESTAMP']).dt.hour\n",
    "df['AMOUNT_BIN'] = pd.cut(df['TX_AMOUNT'], bins=amount_bins, labels=amount_labels, include_lowest=True)\n",
    "df = df.drop(columns=['TIMESTAMP'])\n"
   ]
  },
  {
   "cell_type": "markdown",
   "id": "c08821a6-96e2-4f25-bbcf-9ca251d3ebed",
   "metadata": {},
   "source": [
    "# Target "
   ]
  },
  {
   "cell_type": "code",
   "execution_count": 7,
   "id": "5cb1a0d8-743e-4cb1-a0d6-9e746759f480",
   "metadata": {},
   "outputs": [],
   "source": [
    "y = df['IS_FRAUD'].astype(int)\n",
    "X = df.drop(columns=['IS_FRAUD'])"
   ]
  },
  {
   "cell_type": "markdown",
   "id": "d310dffe-ca65-4b8e-83d7-04eb39ca72d0",
   "metadata": {},
   "source": [
    "# Train Test Split"
   ]
  },
  {
   "cell_type": "code",
   "execution_count": 8,
   "id": "77286b37-1c24-418e-b3ab-64feafc92317",
   "metadata": {},
   "outputs": [],
   "source": [
    "X_train, X_test, y_train, y_test = train_test_split(X, y, test_size=0.3, random_state=42, stratify=y)"
   ]
  },
  {
   "cell_type": "markdown",
   "id": "4b999d80-cdc6-455f-966e-8576bbda7bb5",
   "metadata": {},
   "source": [
    "# Preprocessing"
   ]
  },
  {
   "cell_type": "code",
   "execution_count": 9,
   "id": "4759379d-d3dc-48f0-9257-5313c12576b7",
   "metadata": {},
   "outputs": [],
   "source": [
    "numeric_cols = ['TX_AMOUNT', 'HOUR', 'LOG_TX_AMOUNT']\n",
    "categorical_cols = ['SENDER_COUNTRY', 'RECEIVER_COUNTRY', 'SENDER_ACCOUNT_TYPE', 'RECEIVER_ACCOUNT_TYPE', 'AMOUNT_BIN']\n",
    "preprocessor = ColumnTransformer([('cat', OneHotEncoder(handle_unknown='ignore'), categorical_cols)], remainder='passthrough')"
   ]
  },
  {
   "cell_type": "markdown",
   "id": "2ab18c72-2e57-4394-9d31-0c949724bfe5",
   "metadata": {},
   "source": [
    "#  Model Pipeline"
   ]
  },
  {
   "cell_type": "code",
   "execution_count": 10,
   "id": "dce53fe7-3f35-4649-a463-86cf293b60b2",
   "metadata": {},
   "outputs": [],
   "source": [
    "models = {\n",
    "    \"Random Forest\": RandomForestClassifier(n_estimators=100, random_state=42),\n",
    "    \"Logistic Regression\": LogisticRegression(max_iter=1000, random_state=42),\n",
    "    \"Decision Tree\": DecisionTreeClassifier(random_state=42),\n",
    "    \"SVM\": SVC(probability=True, random_state=42),\n",
    "    \"XGBoost\": XGBClassifier(use_label_encoder=False, eval_metric='logloss', random_state=42),\n",
    "    \"CatBoost\": CatBoostClassifier(verbose=0),\n",
    "    \"Light GBM\": LGBMClassifier(),\n",
    "    \"NaiveBayes\": GaussianNB(),\n",
    "    \"KNN\":KNeighborsClassifier()}\n",
    "\n"
   ]
  },
  {
   "cell_type": "code",
   "execution_count": 16,
   "id": "2bb10899-cc99-44b8-95e4-d5dd97fb2cb1",
   "metadata": {},
   "outputs": [
    {
     "name": "stdout",
     "output_type": "stream",
     "text": [
      "\n",
      "Random Forest:\n",
      "Accuracy: 0.9796\n",
      "Classification Report:\n",
      "              precision    recall  f1-score   support\n",
      "\n",
      "           0       1.00      0.98      0.99    396455\n",
      "           1       0.06      0.95      0.11       516\n",
      "\n",
      "    accuracy                           0.98    396971\n",
      "   macro avg       0.53      0.96      0.55    396971\n",
      "weighted avg       1.00      0.98      0.99    396971\n",
      "\n",
      "\n",
      "Logistic Regression:\n",
      "Accuracy: 0.7609\n",
      "Classification Report:\n",
      "              precision    recall  f1-score   support\n",
      "\n",
      "           0       1.00      0.76      0.86    396455\n",
      "           1       0.01      1.00      0.01       516\n",
      "\n",
      "    accuracy                           0.76    396971\n",
      "   macro avg       0.50      0.88      0.44    396971\n",
      "weighted avg       1.00      0.76      0.86    396971\n",
      "\n",
      "\n",
      "Decision Tree:\n",
      "Accuracy: 0.9796\n",
      "Classification Report:\n",
      "              precision    recall  f1-score   support\n",
      "\n",
      "           0       1.00      0.98      0.99    396455\n",
      "           1       0.06      0.95      0.11       516\n",
      "\n",
      "    accuracy                           0.98    396971\n",
      "   macro avg       0.53      0.96      0.55    396971\n",
      "weighted avg       1.00      0.98      0.99    396971\n",
      "\n",
      "\n",
      "XGBoost:\n",
      "Accuracy: 0.8828\n",
      "Classification Report:\n",
      "              precision    recall  f1-score   support\n",
      "\n",
      "           0       1.00      0.88      0.94    396455\n",
      "           1       0.01      0.97      0.02       516\n",
      "\n",
      "    accuracy                           0.88    396971\n",
      "   macro avg       0.51      0.93      0.48    396971\n",
      "weighted avg       1.00      0.88      0.94    396971\n",
      "\n",
      "\n",
      "CatBoost:\n",
      "Accuracy: 0.8737\n",
      "Classification Report:\n",
      "              precision    recall  f1-score   support\n",
      "\n",
      "           0       1.00      0.87      0.93    396455\n",
      "           1       0.01      0.97      0.02       516\n",
      "\n",
      "    accuracy                           0.87    396971\n",
      "   macro avg       0.50      0.92      0.48    396971\n",
      "weighted avg       1.00      0.87      0.93    396971\n",
      "\n",
      "\n",
      "Light GBM:\n",
      "[LightGBM] [Info] Number of positive: 925060, number of negative: 925060\n",
      "[LightGBM] [Info] Auto-choosing col-wise multi-threading, the overhead of testing was 0.051731 seconds.\n",
      "You can set `force_col_wise=true` to remove the overhead.\n",
      "[LightGBM] [Info] Total Bins 265\n",
      "[LightGBM] [Info] Number of data points in the train set: 1850120, number of used features: 6\n",
      "[LightGBM] [Info] [binary:BoostFromScore]: pavg=0.500000 -> initscore=0.000000\n",
      "Accuracy: 0.8741\n",
      "Classification Report:\n",
      "              precision    recall  f1-score   support\n",
      "\n",
      "           0       1.00      0.87      0.93    396455\n",
      "           1       0.01      0.97      0.02       516\n",
      "\n",
      "    accuracy                           0.87    396971\n",
      "   macro avg       0.50      0.92      0.48    396971\n",
      "weighted avg       1.00      0.87      0.93    396971\n",
      "\n",
      "\n",
      "NaiveBayes:\n",
      "Accuracy: 0.5288\n",
      "Classification Report:\n",
      "              precision    recall  f1-score   support\n",
      "\n",
      "           0       1.00      0.53      0.69    396455\n",
      "           1       0.00      1.00      0.01       516\n",
      "\n",
      "    accuracy                           0.53    396971\n",
      "   macro avg       0.50      0.76      0.35    396971\n",
      "weighted avg       1.00      0.53      0.69    396971\n",
      "\n",
      "\n",
      "KNN:\n",
      "Accuracy: 0.9996\n",
      "Classification Report:\n",
      "              precision    recall  f1-score   support\n",
      "\n",
      "           0       1.00      1.00      1.00    396455\n",
      "           1       1.00      0.68      0.81       516\n",
      "\n",
      "    accuracy                           1.00    396971\n",
      "   macro avg       1.00      0.84      0.91    396971\n",
      "weighted avg       1.00      1.00      1.00    396971\n",
      "\n"
     ]
    }
   ],
   "source": [
    "for name, classifier in models.items():\n",
    "    print(f\"\\n{name}:\")\n",
    "    pipeline = imblearn_Pipeline([\n",
    "        ('preprocess', preprocessor),\n",
    "        ('smote', SMOTE(random_state=42)),\n",
    "        ('classifier', classifier)\n",
    "    ])\n",
    "    pipeline.fit(X_train, y_train)\n",
    "    y_pred = pipeline.predict(X_test)\n",
    "    print(f\"Accuracy: {accuracy_score(y_test, y_pred):.4f}\")\n",
    "    print(\"Classification Report:\")\n",
    "    print(classification_report(y_test, y_pred))\n"
   ]
  },
  {
   "cell_type": "markdown",
   "id": "5ea21d76-350c-4a29-9a24-b1942b4e37af",
   "metadata": {},
   "source": [
    "# saving the final model (Joblib)"
   ]
  },
  {
   "cell_type": "code",
   "execution_count": 11,
   "id": "71b42d1f-0000-4489-9ade-0c3b596fdf39",
   "metadata": {},
   "outputs": [
    {
     "data": {
      "text/plain": [
       "['knn_model.pkl']"
      ]
     },
     "execution_count": 11,
     "metadata": {},
     "output_type": "execute_result"
    }
   ],
   "source": [
    "\n",
    "final_model = imblearn_Pipeline([\n",
    "    ('preprocess', preprocessor),\n",
    "    ('smote', SMOTE(random_state=42)),\n",
    "    ('classifier', KNeighborsClassifier())])\n",
    "final_model.fit(X_train, y_train)\n",
    "joblib.dump(final_model, 'knn_model.pkl')\n"
   ]
  },
  {
   "cell_type": "code",
   "execution_count": null,
   "id": "0d56316c-49f4-4499-b78d-6f1a77fe1ea5",
   "metadata": {},
   "outputs": [],
   "source": []
  }
 ],
 "metadata": {
  "kernelspec": {
   "display_name": "Python 3 (ipykernel)",
   "language": "python",
   "name": "python3"
  },
  "language_info": {
   "codemirror_mode": {
    "name": "ipython",
    "version": 3
   },
   "file_extension": ".py",
   "mimetype": "text/x-python",
   "name": "python",
   "nbconvert_exporter": "python",
   "pygments_lexer": "ipython3",
   "version": "3.12.4"
  }
 },
 "nbformat": 4,
 "nbformat_minor": 5
}
